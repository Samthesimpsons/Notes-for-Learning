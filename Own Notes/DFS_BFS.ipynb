{
 "cells": [
  {
   "cell_type": "code",
   "execution_count": 2,
   "id": "b18df688",
   "metadata": {},
   "outputs": [
    {
     "data": {
      "text/plain": [
       "defaultdict(dict,\n",
       "            {'USD': {'EUR': 0.9090909090909091, 'JPY': 110.0},\n",
       "             'EUR': {'USD': 1.1},\n",
       "             'JPY': {'USD': 0.00909090909090909}})"
      ]
     },
     "execution_count": 2,
     "metadata": {},
     "output_type": "execute_result"
    }
   ],
   "source": [
    "conversion_data = \"\"\"\n",
    "USD to EUR = 0.91\n",
    "EUR to USD = 1.10\n",
    "USD to JPY = 110.0\n",
    "\"\"\"\n",
    "\n",
    "from collections import defaultdict\n",
    "from collections import deque\n",
    "\n",
    "def parse_conversion_data(data: str) -> dict:\n",
    "    graph = defaultdict(dict)\n",
    "\n",
    "    lines = data.split(\"\\n\")[1:-1]\n",
    "    for line in lines:\n",
    "        items = line.split(\" \")\n",
    "        graph[items[0]][items[2]] = float(items[-1])\n",
    "        graph[items[2]][items[0]] = 1/float(items[-1])\n",
    "\n",
    "    return graph\n",
    "\n",
    "conversion_graph = parse_conversion_data(conversion_data)\n",
    "\n",
    "conversion_graph\n",
    "\n",
    "# def get_value(conversion_graph, unit_a, unit_b, curr_value):\n",
    "    \n",
    "#     # queue = deque([(unit_a, curr_value)])\n",
    "#     stack = [(unit_a, curr_value)]\n",
    "#     visitedNodes = {unit_a}\n",
    "\n",
    "#     # while queue:\n",
    "#     while stack:\n",
    "#         # currUnit, currValue = queue.popleft()\n",
    "#         currUnit, currValue = stack.pop()\n",
    "#         if currUnit == unit_b: return currValue\n",
    "\n",
    "#         for unit, value in conversion_graph[currUnit].items():\n",
    "#             if unit not in visitedNodes:\n",
    "#                 # queue.append((unit, currValue*value))\n",
    "#                 stack.append((unit, currValue*value))\n",
    "#                 visitedNodes.add(unit)\n",
    "\n",
    "\n",
    "# get_value(conversion_graph, \"EUR\", \"JPY\", 1)\n"
   ]
  }
 ],
 "metadata": {
  "kernelspec": {
   "display_name": "Python 3",
   "language": "python",
   "name": "python3"
  },
  "language_info": {
   "codemirror_mode": {
    "name": "ipython",
    "version": 3
   },
   "file_extension": ".py",
   "mimetype": "text/x-python",
   "name": "python",
   "nbconvert_exporter": "python",
   "pygments_lexer": "ipython3",
   "version": "3.11.4"
  }
 },
 "nbformat": 4,
 "nbformat_minor": 5
}
